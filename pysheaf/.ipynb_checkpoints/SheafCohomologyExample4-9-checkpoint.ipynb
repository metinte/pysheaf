{
 "cells": [
  {
   "cell_type": "code",
   "execution_count": 75,
   "metadata": {
    "collapsed": false
   },
   "outputs": [],
   "source": [
    "import pysheaf as ps\n",
    "import matplotlib.pyplot as plt\n",
    "import numpy as np\n",
    "from numpy.linalg import matrix_rank"
   ]
  },
  {
   "cell_type": "code",
   "execution_count": 82,
   "metadata": {
    "collapsed": false
   },
   "outputs": [],
   "source": [
    "## From p. 98 Example 4.9:\n",
    "\n",
    "## Restriction Maps:\n",
    "restAD = np.matrix([1,0,0,0])\n",
    "restAG = np.matrix([0,0,1,-1])\n",
    "restBD = np.matrix([1,0,0])\n",
    "restBE = np.matrix([[0,0,3],[0,2,0]])\n",
    "restBF = np.matrix([0,1,0])\n",
    "restCE = np.matrix([[0,0,3,0],[0,0,0,2]])\n",
    "restCF = np.matrix([0,0,0,1])\n",
    "restCG = np.matrix([1,-1,0,0])\n",
    "\n",
    "cofaceAD = ps.SheafCoface(3,1,restAD)\n",
    "cofaceAG = ps.SheafCoface(6,1,restAG)\n",
    "cofaceBD = ps.SheafCoface(3,-1,restBD)\n",
    "cofaceBE = ps.SheafCoface(4,1,restBE)\n",
    "cofaceBF = ps.SheafCoface(5,1,restBF)\n",
    "cofaceCE = ps.SheafCoface(4,-1,restCE)\n",
    "cofaceCF = ps.SheafCoface(5,-1,restCF)\n",
    "cofaceCG = ps.SheafCoface(6,-1,restCG)\n",
    "\n",
    "cellA = ps.SheafCell(dimension=0,id=0,stalkDim=4,name='A',\n",
    "                     cofaces=[cofaceAD,cofaceAG])\n",
    "cellB = ps.SheafCell(dimension=0,id=1,stalkDim=3,name='B',\n",
    "                     cofaces=[cofaceBD,cofaceBE,cofaceBF])\n",
    "cellC = ps.SheafCell(dimension=0,id=2,stalkDim=4,name='C',\n",
    "                     cofaces=[cofaceCE,cofaceCF,cofaceCG])\n",
    "cellD = ps.SheafCell(dimension=1,id=3,stalkDim=1,name='D')\n",
    "cellE = ps.SheafCell(dimension=1,id=4,stalkDim=2,name='E')\n",
    "cellF = ps.SheafCell(dimension=1,id=5,stalkDim=1,name='F')\n",
    "cellG = ps.SheafCell(dimension=1,id=6,stalkDim=1,name='G')\n",
    "\n",
    "sheaf = ps.Sheaf([cellA,cellB,cellC,cellD,cellE,cellF,cellG])\n"
   ]
  },
  {
   "cell_type": "code",
   "execution_count": 83,
   "metadata": {
    "collapsed": false
   },
   "outputs": [
    {
     "name": "stdout",
     "output_type": "stream",
     "text": [
      "True\n"
     ]
    }
   ],
   "source": [
    "print isinstance(cofaceAD,ps.SheafCoface)"
   ]
  },
  {
   "cell_type": "code",
   "execution_count": 84,
   "metadata": {
    "collapsed": false
   },
   "outputs": [
    {
     "name": "stdout",
     "output_type": "stream",
     "text": [
      "True\n",
      "True\n"
     ]
    }
   ],
   "source": [
    "print cofaceAD.isLinear()\n",
    "\n",
    "print cellA.isLinear()"
   ]
  },
  {
   "cell_type": "code",
   "execution_count": 85,
   "metadata": {
    "collapsed": false
   },
   "outputs": [
    {
     "name": "stdout",
     "output_type": "stream",
     "text": [
      "True\n"
     ]
    }
   ],
   "source": [
    "print cellA.isNumeric()\n"
   ]
  },
  {
   "cell_type": "code",
   "execution_count": 86,
   "metadata": {
    "collapsed": false
   },
   "outputs": [
    {
     "name": "stdout",
     "output_type": "stream",
     "text": [
      "(index=3,orientation=1,restriction=[[1 0 0 0]])\n",
      "(index=6,orientation=1,restriction=[[ 0  0  1 -1]])\n"
     ]
    }
   ],
   "source": [
    "for coface in sheaf.cofaces(0):  ### id=0 references cellA\n",
    "    print coface"
   ]
  },
  {
   "cell_type": "code",
   "execution_count": 87,
   "metadata": {
    "collapsed": false
   },
   "outputs": [
    {
     "name": "stdout",
     "output_type": "stream",
     "text": [
      "[(dimension=0,compactClosure=True,(index=1,orientation=1,restriction=[[1 0 0 0]]),(index=2,orientation=1,restriction=[[ 0  0  1 -1]])), (dimension=1,compactClosure=False,stalkdim=1), (dimension=1,compactClosure=False,stalkdim=1)]\n"
     ]
    }
   ],
   "source": [
    "### This cell and the next illustrate a problem with current indexing. \n",
    "### The resulting coface indices have no relationship to the original sheaf\n",
    "\n",
    "star = sheaf.star([0]) \n",
    "print star.cells"
   ]
  },
  {
   "cell_type": "code",
   "execution_count": 88,
   "metadata": {
    "collapsed": false
   },
   "outputs": [
    {
     "name": "stdout",
     "output_type": "stream",
     "text": [
      "[(dimension=0,compactClosure=True,(index=1,orientation=-1,restriction=[[1 0 0]]),(index=2,orientation=1,restriction=[[0 0 3]\n",
      " [0 2 0]]),(index=3,orientation=1,restriction=[[0 1 0]])), (dimension=1,compactClosure=False,stalkdim=1), (dimension=1,compactClosure=False,stalkdim=2), (dimension=1,compactClosure=False,stalkdim=1)]\n"
     ]
    }
   ],
   "source": [
    "star = sheaf.star([1])\n",
    "print star.cells"
   ]
  },
  {
   "cell_type": "code",
   "execution_count": 89,
   "metadata": {
    "collapsed": false
   },
   "outputs": [
    {
     "data": {
      "text/plain": [
       "([0, 1, 2], [4, 3, 4], [0, 4, 7, 11])"
      ]
     },
     "execution_count": 89,
     "metadata": {},
     "output_type": "execute_result"
    }
   ],
   "source": [
    "sheaf.kcells(0)   ## what is output supposed to be here?"
   ]
  },
  {
   "cell_type": "code",
   "execution_count": 124,
   "metadata": {
    "collapsed": false
   },
   "outputs": [
    {
     "data": {
      "text/plain": [
       "array([[ 1.+0.j,  0.+0.j,  0.+0.j,  0.+0.j, -1.+0.j,  0.+0.j,  0.+0.j,\n",
       "         0.+0.j,  0.+0.j,  0.+0.j,  0.+0.j],\n",
       "       [ 0.+0.j,  0.+0.j,  0.+0.j,  0.+0.j,  0.+0.j,  0.+0.j,  3.+0.j,\n",
       "         0.+0.j,  0.+0.j, -3.+0.j,  0.+0.j],\n",
       "       [ 0.+0.j,  0.+0.j,  0.+0.j,  0.+0.j,  0.+0.j,  2.+0.j,  0.+0.j,\n",
       "         0.+0.j,  0.+0.j,  0.+0.j, -2.+0.j],\n",
       "       [ 0.+0.j,  0.+0.j,  0.+0.j,  0.+0.j,  0.+0.j,  1.+0.j,  0.+0.j,\n",
       "         0.+0.j,  0.+0.j,  0.+0.j, -1.+0.j],\n",
       "       [ 0.+0.j,  0.+0.j,  1.+0.j, -1.+0.j,  0.+0.j,  0.+0.j,  0.+0.j,\n",
       "        -1.+0.j,  1.+0.j,  0.+0.j,  0.+0.j]])"
      ]
     },
     "execution_count": 124,
     "metadata": {},
     "output_type": "execute_result"
    }
   ],
   "source": [
    "sheaf.coboundary(0)"
   ]
  },
  {
   "cell_type": "code",
   "execution_count": 125,
   "metadata": {
    "collapsed": false
   },
   "outputs": [
    {
     "data": {
      "text/plain": [
       "array([[  0.00000000e+00-0.j,  -2.88675135e-01-0.j,   0.00000000e+00-0.j,\n",
       "          4.08248290e-01-0.j,  -4.08248290e-01-0.j,   0.00000000e+00-0.j,\n",
       "          2.88675135e-01-0.j],\n",
       "       [  0.00000000e+00-0.j,   0.00000000e+00-0.j,  -7.07106781e-01-0.j,\n",
       "          0.00000000e+00-0.j,   0.00000000e+00-0.j,   7.07106781e-01-0.j,\n",
       "          0.00000000e+00-0.j],\n",
       "       [ -8.66025404e-01-0.j,   0.00000000e+00-0.j,   0.00000000e+00-0.j,\n",
       "         -7.85046229e-17-0.j,   7.85046229e-17-0.j,   0.00000000e+00-0.j,\n",
       "          0.00000000e+00-0.j],\n",
       "       [ -2.88675135e-01-0.j,  -4.71404521e-01-0.j,   0.00000000e+00-0.j,\n",
       "         -3.33333333e-01-0.j,   3.33333333e-01-0.j,   0.00000000e+00-0.j,\n",
       "          4.71404521e-01-0.j],\n",
       "       [  0.00000000e+00-0.j,  -2.88675135e-01-0.j,   0.00000000e+00-0.j,\n",
       "          4.08248290e-01-0.j,  -4.08248290e-01-0.j,   0.00000000e+00-0.j,\n",
       "          2.88675135e-01-0.j],\n",
       "       [  9.61481343e-17-0.j,   5.00000000e-01-0.j,   0.00000000e+00-0.j,\n",
       "          1.23259516e-32-0.j,  -1.23259516e-32-0.j,   0.00000000e+00-0.j,\n",
       "          5.00000000e-01-0.j],\n",
       "       [  0.00000000e+00-0.j,   0.00000000e+00-0.j,   5.00000000e-01-0.j,\n",
       "          0.00000000e+00-0.j,   0.00000000e+00-0.j,   5.00000000e-01-0.j,\n",
       "          0.00000000e+00-0.j],\n",
       "       [ -2.88675135e-01-0.j,   2.35702260e-01-0.j,   0.00000000e+00-0.j,\n",
       "          6.66666667e-01-0.j,   3.33333333e-01-0.j,   0.00000000e+00-0.j,\n",
       "         -2.35702260e-01-0.j],\n",
       "       [  2.88675135e-01-0.j,  -2.35702260e-01-0.j,   0.00000000e+00-0.j,\n",
       "          3.33333333e-01-0.j,   6.66666667e-01-0.j,   0.00000000e+00-0.j,\n",
       "          2.35702260e-01-0.j],\n",
       "       [  0.00000000e+00-0.j,   0.00000000e+00-0.j,   5.00000000e-01-0.j,\n",
       "          0.00000000e+00-0.j,   0.00000000e+00-0.j,   5.00000000e-01-0.j,\n",
       "          0.00000000e+00-0.j],\n",
       "       [ -9.61481343e-17-0.j,   5.00000000e-01-0.j,   0.00000000e+00-0.j,\n",
       "         -1.23259516e-32-0.j,   1.23259516e-32-0.j,   0.00000000e+00-0.j,\n",
       "          5.00000000e-01-0.j]])"
      ]
     },
     "execution_count": 125,
     "metadata": {},
     "output_type": "execute_result"
    }
   ],
   "source": [
    "sheaf.cohomology(0)"
   ]
  },
  {
   "cell_type": "code",
   "execution_count": 93,
   "metadata": {
    "collapsed": false
   },
   "outputs": [
    {
     "data": {
      "text/plain": [
       "7"
      ]
     },
     "execution_count": 93,
     "metadata": {},
     "output_type": "execute_result"
    }
   ],
   "source": [
    "sheaf.coboundary(0).shape[1] - matrix_rank(sheaf.coboundary(0))"
   ]
  },
  {
   "cell_type": "code",
   "execution_count": 105,
   "metadata": {
    "collapsed": false
   },
   "outputs": [
    {
     "name": "stderr",
     "output_type": "stream",
     "text": [
      "/opt/anaconda/lib/python2.7/site-packages/ipykernel/__main__.py:1: ComplexWarning: Casting complex values to real discards the imaginary part\n",
      "  if __name__ == '__main__':\n"
     ]
    },
    {
     "data": {
      "text/plain": [
       "array([[ True,  True,  True,  True,  True,  True,  True,  True,  True,\n",
       "         True,  True],\n",
       "       [ True,  True,  True,  True,  True,  True,  True,  True,  True,\n",
       "         True,  True],\n",
       "       [ True,  True,  True,  True,  True,  True,  True,  True,  True,\n",
       "         True,  True],\n",
       "       [ True,  True,  True,  True,  True,  True,  True,  True,  True,\n",
       "         True,  True],\n",
       "       [ True,  True,  True,  True,  True,  True,  True,  True,  True,\n",
       "         True,  True]], dtype=bool)"
      ]
     },
     "execution_count": 105,
     "metadata": {},
     "output_type": "execute_result"
    }
   ],
   "source": [
    "sheaf.coboundary(0) == sheaf.coboundary(0).astype(int)"
   ]
  },
  {
   "cell_type": "code",
   "execution_count": 106,
   "metadata": {
    "collapsed": false
   },
   "outputs": [
    {
     "name": "stderr",
     "output_type": "stream",
     "text": [
      "/opt/anaconda/lib/python2.7/site-packages/ipykernel/__main__.py:1: ComplexWarning: Casting complex values to real discards the imaginary part\n",
      "  if __name__ == '__main__':\n"
     ]
    },
    {
     "data": {
      "text/plain": [
       "array([[ 1,  0,  0,  0, -1,  0,  0,  0,  0,  0,  0],\n",
       "       [ 0,  0,  0,  0,  0,  0,  3,  0,  0, -3,  0],\n",
       "       [ 0,  0,  0,  0,  0,  2,  0,  0,  0,  0, -2],\n",
       "       [ 0,  0,  0,  0,  0,  1,  0,  0,  0,  0, -1],\n",
       "       [ 0,  0,  1, -1,  0,  0,  0, -1,  1,  0,  0]])"
      ]
     },
     "execution_count": 106,
     "metadata": {},
     "output_type": "execute_result"
    }
   ],
   "source": [
    "sheaf.coboundary(0).astype(int)"
   ]
  },
  {
   "cell_type": "code",
   "execution_count": 110,
   "metadata": {
    "collapsed": false
   },
   "outputs": [
    {
     "data": {
      "text/plain": [
       "55"
      ]
     },
     "execution_count": 110,
     "metadata": {},
     "output_type": "execute_result"
    }
   ],
   "source": [
    "np.sum(sheaf.coboundary(0) == np.array([[ 1,  0,  0,  0, -1,  0,  0,  0,  0,  0,  0],\n",
    "       [ 0,  0,  0,  0,  0,  0,  3,  0,  0, -3,  0],\n",
    "       [ 0,  0,  0,  0,  0,  2,  0,  0,  0,  0, -2],\n",
    "       [ 0,  0,  0,  0,  0,  1,  0,  0,  0,  0, -1],\n",
    "       [ 0,  0,  1, -1,  0,  0,  0, -1,  1,  0,  0]]) )"
   ]
  },
  {
   "cell_type": "code",
   "execution_count": 127,
   "metadata": {
    "collapsed": false
   },
   "outputs": [
    {
     "data": {
      "text/plain": [
       "55"
      ]
     },
     "execution_count": 127,
     "metadata": {},
     "output_type": "execute_result"
    }
   ],
   "source": [
    "m,n = sheaf.coboundary(0).shape;m*n"
   ]
  },
  {
   "cell_type": "code",
   "execution_count": 130,
   "metadata": {
    "collapsed": false
   },
   "outputs": [
    {
     "name": "stdout",
     "output_type": "stream",
     "text": [
      "7\n"
     ]
    }
   ],
   "source": [
    " = matrix_rank(d)\n",
    "print n - r"
   ]
  },
  {
   "cell_type": "code",
   "execution_count": 132,
   "metadata": {
    "collapsed": false
   },
   "outputs": [
    {
     "data": {
      "text/plain": [
       "7"
      ]
     },
     "execution_count": 132,
     "metadata": {},
     "output_type": "execute_result"
    }
   ],
   "source": [
    "sheaf.betti(0)"
   ]
  },
  {
   "cell_type": "code",
   "execution_count": null,
   "metadata": {
    "collapsed": true
   },
   "outputs": [],
   "source": []
  }
 ],
 "metadata": {
  "kernelspec": {
   "display_name": "Python 2",
   "language": "python",
   "name": "python2"
  },
  "language_info": {
   "codemirror_mode": {
    "name": "ipython",
    "version": 2
   },
   "file_extension": ".py",
   "mimetype": "text/x-python",
   "name": "python",
   "nbconvert_exporter": "python",
   "pygments_lexer": "ipython2",
   "version": "2.7.10"
  }
 },
 "nbformat": 4,
 "nbformat_minor": 0
}
