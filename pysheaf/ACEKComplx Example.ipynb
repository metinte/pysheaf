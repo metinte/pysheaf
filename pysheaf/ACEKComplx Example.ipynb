{
 "cells": [
  {
   "cell_type": "code",
   "execution_count": 4,
   "metadata": {
    "collapsed": true
   },
   "outputs": [],
   "source": [
    "import pysheaf as ps"
   ]
  },
  {
   "cell_type": "code",
   "execution_count": 5,
   "metadata": {
    "collapsed": true
   },
   "outputs": [],
   "source": [
    "cellA = ps.Cell(0,name='A',id=0,cofaces=[ps.Coface(4,-1),ps.Coface(5, -1),ps.Coface(6, -1)])\n",
    "cellC = ps.Cell(0,name='C',id=1,cofaces=[ps.Coface(4, 1),ps.Coface(8, -1),ps.Coface(9, -1)])\n",
    "cellE = ps.Cell(0,name='E',id=2,cofaces=[ps.Coface(5, 1),ps.Coface(8, 1)])\n",
    "cellK = ps.Cell(0,name='K',id=3,cofaces=[ps.Coface(6, 1),ps.Coface(9, 1)])\n",
    "cellAC = ps.Cell(1,name='AC',id=4,cofaces=[ps.Coface(7, 1)])\n",
    "cellAE = ps.Cell(1,name='AE',id=5)\n",
    "cellAK = ps.Cell(1,name='AK',id=6,cofaces=[ps.Coface(7, -1)])\n",
    "cellACK = ps.Cell(2,name='ACK',id=7)\n",
    "cellCE = ps.Cell(1,name='CE',id=8)\n",
    "cellCK = ps.Cell(1,name='CK',id=9,cofaces=[ps.Coface(7, 1)])\n",
    "cmplx = ps.CellComplex([cellA,cellC,cellE,cellK,cellAC,cellAE,cellAK,cellACK,cellCE, cellCK])"
   ]
  },
  {
   "cell_type": "code",
   "execution_count": 7,
   "metadata": {
    "collapsed": false
   },
   "outputs": [
    {
     "data": {
      "text/plain": [
       "array([], shape=(0, 4), dtype=float64)"
      ]
     },
     "execution_count": 7,
     "metadata": {},
     "output_type": "execute_result"
    }
   ],
   "source": [
    "cmplx.boundary(0)"
   ]
  },
  {
   "cell_type": "code",
   "execution_count": 8,
   "metadata": {
    "collapsed": false
   },
   "outputs": [
    {
     "data": {
      "text/plain": [
       "array([[-1., -1., -1.,  0.,  0.],\n",
       "       [ 1.,  0.,  0., -1., -1.],\n",
       "       [ 0.,  1.,  0.,  1.,  0.],\n",
       "       [ 0.,  0.,  1.,  0.,  1.]])"
      ]
     },
     "execution_count": 8,
     "metadata": {},
     "output_type": "execute_result"
    }
   ],
   "source": [
    "cmplx.boundary(1)"
   ]
  },
  {
   "cell_type": "code",
   "execution_count": null,
   "metadata": {
    "collapsed": true
   },
   "outputs": [],
   "source": [
    "cmplx.homology"
   ]
  }
 ],
 "metadata": {
  "kernelspec": {
   "display_name": "Python 2",
   "language": "python",
   "name": "python2"
  },
  "language_info": {
   "codemirror_mode": {
    "name": "ipython",
    "version": 2
   },
   "file_extension": ".py",
   "mimetype": "text/x-python",
   "name": "python",
   "nbconvert_exporter": "python",
   "pygments_lexer": "ipython2",
   "version": "2.7.10"
  }
 },
 "nbformat": 4,
 "nbformat_minor": 0
}
