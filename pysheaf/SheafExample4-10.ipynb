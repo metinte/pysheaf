{
 "cells": [
  {
   "cell_type": "code",
   "execution_count": 6,
   "metadata": {
    "collapsed": true
   },
   "outputs": [],
   "source": [
    "import pysheaf as ps\n",
    "import matplotlib.pyplot as plt\n",
    "import numpy as np\n",
    "from numpy.linalg import matrix_rank"
   ]
  },
  {
   "cell_type": "code",
   "execution_count": 9,
   "metadata": {
    "collapsed": false
   },
   "outputs": [],
   "source": [
    "### Example from p.100 of textbook\n",
    "### Cells are [v0,v1,e1,e2,e3,e4] indexed by position in list\n",
    "\n",
    "pr1 = np.matrix([1,0])\n",
    "pr2 = np.matrix([0,1])\n",
    "restsum = np.matrix([1,1])\n",
    " \n",
    "cfv0e1 = ps.SheafCoface(2,1,pr1)\n",
    "cfv0e2 = ps.SheafCoface(3,1,pr2)\n",
    "cfv1e1 = ps.SheafCoface(2,-1,pr1)\n",
    "cfv1e2 = ps.SheafCoface(3,-1,pr2)\n",
    "cfv0e3 = ps.SheafCoface(4,1,restsum)\n",
    "cfv1e4 = ps.SheafCoface(5,1,restsum)\n",
    "\n",
    "v0 = ps.SheafCell(dimension=0,id=0,stalkDim=2,name='v0',\n",
    "            cofaces=[cfv0e1,cfv0e2])\n",
    "v1 = ps.SheafCell(dimension=0,id=1,stalkDim=2,name='v1',\n",
    "            cofaces=[cfv1e1,cfv1e2])\n",
    "e1 = ps.SheafCell(dimension=1,id=2,stalkDim=1,name='e1')\n",
    "e2 = ps.SheafCell(dimension=1,id=3,stalkDim=1,name='e2')\n",
    "e3 = ps.SheafCell(dimension=1,id=4,stalkDim=1,name='e3')\n",
    "e4 = ps.SheafCell(dimension=1,id=5,stalkDim=1,name='e4')\n",
    "\n",
    "sheaf = ps.Sheaf([v0,v1,e1,e2,e3,e4])"
   ]
  },
  {
   "cell_type": "code",
   "execution_count": 54,
   "metadata": {
    "collapsed": false
   },
   "outputs": [
    {
     "name": "stdout",
     "output_type": "stream",
     "text": [
      "[[ 1.+0.j  0.+0.j -1.+0.j  0.+0.j]\n",
      " [ 0.+0.j  1.+0.j  0.+0.j -1.+0.j]\n",
      " [ 0.+0.j  0.+0.j  0.+0.j  0.+0.j]\n",
      " [ 0.+0.j  0.+0.j  0.+0.j  0.+0.j]]\n"
     ]
    }
   ],
   "source": [
    "d=sheaf.coboundary(0)\n",
    "print d\n"
   ]
  },
  {
   "cell_type": "code",
   "execution_count": 55,
   "metadata": {
    "collapsed": false
   },
   "outputs": [
    {
     "name": "stdout",
     "output_type": "stream",
     "text": [
      "2\n"
     ]
    }
   ],
   "source": [
    "ker = d.shape[1] - matrix_rank(d)\n",
    "print ker"
   ]
  },
  {
   "cell_type": "code",
   "execution_count": 56,
   "metadata": {
    "collapsed": false
   },
   "outputs": [
    {
     "data": {
      "text/plain": [
       "array([[-0.70710678-0.j,  0.00000000-0.j],\n",
       "       [ 0.00000000-0.j,  0.70710678-0.j],\n",
       "       [-0.70710678-0.j,  0.00000000-0.j],\n",
       "       [ 0.00000000-0.j,  0.70710678-0.j]])"
      ]
     },
     "execution_count": 56,
     "metadata": {},
     "output_type": "execute_result"
    }
   ],
   "source": [
    "sheaf.cohomology(0)"
   ]
  },
  {
   "cell_type": "code",
   "execution_count": 53,
   "metadata": {
    "collapsed": false
   },
   "outputs": [
    {
     "data": {
      "text/plain": [
       "2"
      ]
     },
     "execution_count": 53,
     "metadata": {},
     "output_type": "execute_result"
    }
   ],
   "source": [
    "sheaf.betti(0)"
   ]
  },
  {
   "cell_type": "code",
   "execution_count": null,
   "metadata": {
    "collapsed": true
   },
   "outputs": [],
   "source": []
  }
 ],
 "metadata": {
  "kernelspec": {
   "display_name": "Python 2",
   "language": "python",
   "name": "python2"
  },
  "language_info": {
   "codemirror_mode": {
    "name": "ipython",
    "version": 2
   },
   "file_extension": ".py",
   "mimetype": "text/x-python",
   "name": "python",
   "nbconvert_exporter": "python",
   "pygments_lexer": "ipython2",
   "version": "2.7.10"
  }
 },
 "nbformat": 4,
 "nbformat_minor": 0
}
